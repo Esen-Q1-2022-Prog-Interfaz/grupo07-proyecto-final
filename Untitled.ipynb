{
 "cells": [
  {
   "cell_type": "code",
   "execution_count": 4,
   "id": "96cf79e8",
   "metadata": {},
   "outputs": [
    {
     "name": "stdout",
     "output_type": "stream",
     "text": [
      "      PLACA       MARCA       MODELO          CLASE           COLOR   AÑO  \\\n",
      "0   P131011      TOYOTA      COASTER       MICROBUS          BLANCO  2011   \n",
      "1   P243639      TOYOTA  COROLLA GLI      AUTOMOVIL          BLANCO  2013   \n",
      "2   P122798      TOYOTA  COROLLA GLI      AUTOMOVIL          BLANCO  2012   \n",
      "3   P585515  MITSUBISHI          N/D       MICROBUS            AZUL  2008   \n",
      "4     N6647      NISSAN     FRONTIER    PICK UP 4X2          BLANCO  2013   \n",
      "..      ...         ...          ...            ...             ...   ...   \n",
      "57   C72526       ISUZU          NMR  CAMION PESADO          BLANCO  2012   \n",
      "58   C72530       ISUZU          NMR  CAMION PESADO          BLANCO  2012   \n",
      "59  P592075      NISSAN    TIIDA SE       AUTOMOVIL  PLATEADO CLARO  2008   \n",
      "60    N5351     HYUNDAI       I10 GL      AUTOMOVIL          BLANCO  2016   \n",
      "61    N5388     HYUNDAI       I10 GL      AUTOMOVIL          BLANCO  2016   \n",
      "\n",
      "   COMBUSTIBLE  CAPACIDAD     No. MOTOR         No. CHASIS No. VIN  \n",
      "0       DIESEL  30.00 ASS    1HZ0650288  JTGFB518601039825     N/T  \n",
      "1     GASOLINA   5.00 ASS    2ZR1080876  JTDBL42E60J109685     N/T  \n",
      "2     GASOLINA   5.00 ASS    2ZR0939589  JTDBL42E009169642     N/T  \n",
      "3       DIESEL  12.00 ASS    4D56LG7671  JMYHNP15W8A000785     NaN  \n",
      "4     GASOLINA   1.50 TON   KA24592126A  3N6DD23T4ZK915864     N/T  \n",
      "..         ...        ...           ...                ...     ...  \n",
      "57      DIESEL    4.0 TON        938003  JAANMR71HC7100021     N/T  \n",
      "58      DIESEL    4.0 TON        938092  JAANMR71HC7100022     N/T  \n",
      "59    GASOLINA   5.00 ASS   HR16317385A  JN1BCAC11Z0011796     N/T  \n",
      "60    GASOLINA   5.00 ASS  G4HGFM892522  MALAN51BAGM635399     N/T  \n",
      "61    GASOLINA   5.00 ASS  G4HGFM904397  MALAN51BAGM646300     N/T  \n",
      "\n",
      "[62 rows x 11 columns]\n"
     ]
    }
   ],
   "source": [
    "import pandas as pd\n",
    "#needed pip install panda & pip install openpyxl\n",
    "archivo = \"C:\\\\Users\\\\ADMIN\\Desktop\\\\Proyecto Final\\\\DETALLE DE VEHICULOS.xlsx\"\n",
    "df = pd.read_excel(archivo, sheet_name='Hoja1')\n",
    "print(df)\n"
   ]
  },
  {
   "cell_type": "code",
   "execution_count": null,
   "id": "39020e96",
   "metadata": {},
   "outputs": [],
   "source": []
  }
 ],
 "metadata": {
  "kernelspec": {
   "display_name": "Python 3 (ipykernel)",
   "language": "python",
   "name": "python3"
  },
  "language_info": {
   "codemirror_mode": {
    "name": "ipython",
    "version": 3
   },
   "file_extension": ".py",
   "mimetype": "text/x-python",
   "name": "python",
   "nbconvert_exporter": "python",
   "pygments_lexer": "ipython3",
   "version": "3.10.2"
  }
 },
 "nbformat": 4,
 "nbformat_minor": 5
}
